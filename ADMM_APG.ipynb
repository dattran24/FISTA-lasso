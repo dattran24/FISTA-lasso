{
  "nbformat": 4,
  "nbformat_minor": 0,
  "metadata": {
    "colab": {
      "name": "ADMM_APG.ipynb",
      "provenance": [],
      "collapsed_sections": []
    },
    "kernelspec": {
      "name": "python3",
      "display_name": "Python 3"
    }
  },
  "cells": [
    {
      "cell_type": "code",
      "metadata": {
        "id": "c-ZPNVOyjgmQ"
      },
      "source": [
        "%matplotlib inline \n",
        "import numpy as np\n",
        "from matplotlib import pyplot as plt\n",
        "#Generate Data\n",
        "#\n",
        "N = 784\n",
        "dim = 784\n",
        "lamda = 0.00001\n",
        "mu=lamda\n",
        "np.random.seed(50)\n",
        "w = np.matrix(np.random.multivariate_normal([0.0]*dim, np.eye(dim))).T\n",
        "X = np.matrix(np.random.multivariate_normal([0.0]*dim, np.eye(dim), size = N))\n",
        "y = X*w\n",
        "L = (np.linalg.svd(X)[1][0])**2\n",
        "max_iter = 10000\n",
        "b=np.zeros(N)\n",
        "for i in range(len(b)):\n",
        "  b[i]=y[i][0]\n",
        "#Tim gia tri\n",
        "n=dim\n",
        "B=np.array(X)\n",
        "def giatri(x):\n",
        "  gt=0\n",
        "  for i in range(0,n):\n",
        "    gt+=0.5*((np.matmul(B,x)-b)[i])**2+mu*abs(x[i])\n",
        "  return gt"
      ],
      "execution_count": null,
      "outputs": []
    },
    {
      "cell_type": "code",
      "metadata": {
        "id": "2A2cHKh-kHAZ"
      },
      "source": [
        "## Define the objective, subgradient oracle, proximal operator, and gradient for smoothed function (Huber)  \n",
        "def obj(w):\n",
        "    r = X*w-y;\n",
        "    return 0.5*np.sum(np.multiply(r,r)) +  lamda * np.sum(np.abs(w))\n",
        "def subgrad(w):\n",
        "    return  X.T*(X*w-y) + lamda*np.sign(w) \n",
        "\n",
        "def f_grad(w):\n",
        "    return  X.T*(X*w-y) \n",
        "\n",
        "def soft_threshod(w,mu):\n",
        "    return np.multiply(np.sign(w), np.maximum(np.abs(w)- mu,0))  \n",
        "\n",
        "def smooth_grad(w, mu):\n",
        "    temp = np.multiply((np.abs(w)<=mu),w/mu) + np.multiply((np.abs(w)>mu),np.sign(w)) \n",
        "    return X.T*(X*w-y) + lamda * temp"
      ],
      "execution_count": null,
      "outputs": []
    },
    {
      "cell_type": "code",
      "metadata": {
        "id": "wOiW5RKHkKUs"
      },
      "source": [
        "## Nesterovs' Accelerated Proximal Gradient with Backtracking\n",
        "import time\n",
        "w = np.matrix([1.0]*dim).T\n",
        "v = w\n",
        "obj_APG_LS = []\n",
        "L=1\n",
        "gamma = 1/L\n",
        "beta = 1.2\n",
        "start_time = time.time()\n",
        "time_APG=[]\n",
        "value_APG=[]\n",
        "t=0\n",
        "while (float(time.time() - start_time)<2200):\n",
        "    obj_val = obj(w)\n",
        "    w_prev = w\n",
        "    delta = 1\n",
        "    while (delta>1e-3):\n",
        "        gamma = 1/L\n",
        "        w = v - gamma * f_grad(v)    \n",
        "        w = soft_threshod(w,lamda * gamma)\n",
        "        delta = obj(w) - obj_val - f_grad(w_prev).T*(w-w_prev)- (L/2) * np.linalg.norm(w-w_prev)**2\n",
        "        L = L*beta\n",
        "    L = L/beta    \n",
        "    v = w + t/(t+3) * (w - w_prev)\n",
        "    obj_APG_LS.append(obj_val.item())\n",
        "    if (t%500==0):\n",
        "        print('iter= {},\\tobjective= {:3f}'.format(t, obj_val.item()))\n",
        "        time_APG.append(float(time.time() - start_time))\n",
        "        value_APG.append(obj_val.item())\n",
        "    t+=1"
      ],
      "execution_count": null,
      "outputs": []
    },
    {
      "cell_type": "code",
      "metadata": {
        "id": "EWsU8cfnkMfb",
        "outputId": "eb2365fc-4892-4ffe-a4b2-6db76ed0c041",
        "colab": {
          "base_uri": "https://localhost:8080/",
          "height": 409
        }
      },
      "source": [
        "## ADMM\n",
        "w = np.matrix([1.0]*dim).T\n",
        "z = w\n",
        "u = w\n",
        "obj_ADMM = []\n",
        "rho = 5\n",
        "import time\n",
        "times_ADMM=[]\n",
        "start_time = time.time()\n",
        "value_ADMM=[]\n",
        "t=0\n",
        "#for t in range(0, max_iter):\n",
        "while float(time.time() - start_time)<10:\n",
        "    obj_val = obj(w)\n",
        "    w = np.linalg.inv((X.T)*X + rho*np.identity(dim))*(X.T*y + rho*z - u )\n",
        "    z= soft_threshod(w + u/rho,lamda/rho)\n",
        "    u = u + rho * (w-z)\n",
        "    obj_ADMM.append(obj_val.item())\n",
        "    if (t%500==0):\n",
        "        print('iter= {},\\tobjective= {:3f}'.format(t, obj_val.item()))\n",
        "        times_ADMM.append(float(time.time() - start_time))\n",
        "        value_ADMM.append(obj_val.item())\n",
        "    t+=1\n",
        "print()"
      ],
      "execution_count": null,
      "outputs": [
        {
          "output_type": "stream",
          "text": [
            "iter= 0,\tobjective= 647100.845969\n"
          ],
          "name": "stdout"
        },
        {
          "output_type": "error",
          "ename": "KeyboardInterrupt",
          "evalue": "ignored",
          "traceback": [
            "\u001b[0;31m---------------------------------------------------------------------------\u001b[0m",
            "\u001b[0;31mKeyboardInterrupt\u001b[0m                         Traceback (most recent call last)",
            "\u001b[0;32m<ipython-input-7-4340a907d69f>\u001b[0m in \u001b[0;36m<module>\u001b[0;34m()\u001b[0m\n\u001b[1;32m     13\u001b[0m \u001b[0;32mwhile\u001b[0m \u001b[0mfloat\u001b[0m\u001b[0;34m(\u001b[0m\u001b[0mtime\u001b[0m\u001b[0;34m.\u001b[0m\u001b[0mtime\u001b[0m\u001b[0;34m(\u001b[0m\u001b[0;34m)\u001b[0m \u001b[0;34m-\u001b[0m \u001b[0mstart_time\u001b[0m\u001b[0;34m)\u001b[0m\u001b[0;34m<\u001b[0m\u001b[0;36m10\u001b[0m\u001b[0;34m:\u001b[0m\u001b[0;34m\u001b[0m\u001b[0;34m\u001b[0m\u001b[0m\n\u001b[1;32m     14\u001b[0m     \u001b[0mobj_val\u001b[0m \u001b[0;34m=\u001b[0m \u001b[0mobj\u001b[0m\u001b[0;34m(\u001b[0m\u001b[0mw\u001b[0m\u001b[0;34m)\u001b[0m\u001b[0;34m\u001b[0m\u001b[0;34m\u001b[0m\u001b[0m\n\u001b[0;32m---> 15\u001b[0;31m     \u001b[0mw\u001b[0m \u001b[0;34m=\u001b[0m \u001b[0mnp\u001b[0m\u001b[0;34m.\u001b[0m\u001b[0mlinalg\u001b[0m\u001b[0;34m.\u001b[0m\u001b[0minv\u001b[0m\u001b[0;34m(\u001b[0m\u001b[0;34m(\u001b[0m\u001b[0mX\u001b[0m\u001b[0;34m.\u001b[0m\u001b[0mT\u001b[0m\u001b[0;34m)\u001b[0m\u001b[0;34m*\u001b[0m\u001b[0mX\u001b[0m \u001b[0;34m+\u001b[0m \u001b[0mrho\u001b[0m\u001b[0;34m*\u001b[0m\u001b[0mnp\u001b[0m\u001b[0;34m.\u001b[0m\u001b[0midentity\u001b[0m\u001b[0;34m(\u001b[0m\u001b[0mdim\u001b[0m\u001b[0;34m)\u001b[0m\u001b[0;34m)\u001b[0m\u001b[0;34m*\u001b[0m\u001b[0;34m(\u001b[0m\u001b[0mX\u001b[0m\u001b[0;34m.\u001b[0m\u001b[0mT\u001b[0m\u001b[0;34m*\u001b[0m\u001b[0my\u001b[0m \u001b[0;34m+\u001b[0m \u001b[0mrho\u001b[0m\u001b[0;34m*\u001b[0m\u001b[0mz\u001b[0m \u001b[0;34m-\u001b[0m \u001b[0mu\u001b[0m \u001b[0;34m)\u001b[0m\u001b[0;34m\u001b[0m\u001b[0;34m\u001b[0m\u001b[0m\n\u001b[0m\u001b[1;32m     16\u001b[0m     \u001b[0mz\u001b[0m\u001b[0;34m=\u001b[0m \u001b[0msoft_threshod\u001b[0m\u001b[0;34m(\u001b[0m\u001b[0mw\u001b[0m \u001b[0;34m+\u001b[0m \u001b[0mu\u001b[0m\u001b[0;34m/\u001b[0m\u001b[0mrho\u001b[0m\u001b[0;34m,\u001b[0m\u001b[0mlamda\u001b[0m\u001b[0;34m/\u001b[0m\u001b[0mrho\u001b[0m\u001b[0;34m)\u001b[0m\u001b[0;34m\u001b[0m\u001b[0;34m\u001b[0m\u001b[0m\n\u001b[1;32m     17\u001b[0m     \u001b[0mu\u001b[0m \u001b[0;34m=\u001b[0m \u001b[0mu\u001b[0m \u001b[0;34m+\u001b[0m \u001b[0mrho\u001b[0m \u001b[0;34m*\u001b[0m \u001b[0;34m(\u001b[0m\u001b[0mw\u001b[0m\u001b[0;34m-\u001b[0m\u001b[0mz\u001b[0m\u001b[0;34m)\u001b[0m\u001b[0;34m\u001b[0m\u001b[0;34m\u001b[0m\u001b[0m\n",
            "\u001b[0;32m<__array_function__ internals>\u001b[0m in \u001b[0;36minv\u001b[0;34m(*args, **kwargs)\u001b[0m\n",
            "\u001b[0;32m/usr/local/lib/python3.6/dist-packages/numpy/linalg/linalg.py\u001b[0m in \u001b[0;36minv\u001b[0;34m(a)\u001b[0m\n\u001b[1;32m    545\u001b[0m     \u001b[0msignature\u001b[0m \u001b[0;34m=\u001b[0m \u001b[0;34m'D->D'\u001b[0m \u001b[0;32mif\u001b[0m \u001b[0misComplexType\u001b[0m\u001b[0;34m(\u001b[0m\u001b[0mt\u001b[0m\u001b[0;34m)\u001b[0m \u001b[0;32melse\u001b[0m \u001b[0;34m'd->d'\u001b[0m\u001b[0;34m\u001b[0m\u001b[0;34m\u001b[0m\u001b[0m\n\u001b[1;32m    546\u001b[0m     \u001b[0mextobj\u001b[0m \u001b[0;34m=\u001b[0m \u001b[0mget_linalg_error_extobj\u001b[0m\u001b[0;34m(\u001b[0m\u001b[0m_raise_linalgerror_singular\u001b[0m\u001b[0;34m)\u001b[0m\u001b[0;34m\u001b[0m\u001b[0;34m\u001b[0m\u001b[0m\n\u001b[0;32m--> 547\u001b[0;31m     \u001b[0mainv\u001b[0m \u001b[0;34m=\u001b[0m \u001b[0m_umath_linalg\u001b[0m\u001b[0;34m.\u001b[0m\u001b[0minv\u001b[0m\u001b[0;34m(\u001b[0m\u001b[0ma\u001b[0m\u001b[0;34m,\u001b[0m \u001b[0msignature\u001b[0m\u001b[0;34m=\u001b[0m\u001b[0msignature\u001b[0m\u001b[0;34m,\u001b[0m \u001b[0mextobj\u001b[0m\u001b[0;34m=\u001b[0m\u001b[0mextobj\u001b[0m\u001b[0;34m)\u001b[0m\u001b[0;34m\u001b[0m\u001b[0;34m\u001b[0m\u001b[0m\n\u001b[0m\u001b[1;32m    548\u001b[0m     \u001b[0;32mreturn\u001b[0m \u001b[0mwrap\u001b[0m\u001b[0;34m(\u001b[0m\u001b[0mainv\u001b[0m\u001b[0;34m.\u001b[0m\u001b[0mastype\u001b[0m\u001b[0;34m(\u001b[0m\u001b[0mresult_t\u001b[0m\u001b[0;34m,\u001b[0m \u001b[0mcopy\u001b[0m\u001b[0;34m=\u001b[0m\u001b[0;32mFalse\u001b[0m\u001b[0;34m)\u001b[0m\u001b[0;34m)\u001b[0m\u001b[0;34m\u001b[0m\u001b[0;34m\u001b[0m\u001b[0m\n\u001b[1;32m    549\u001b[0m \u001b[0;34m\u001b[0m\u001b[0m\n",
            "\u001b[0;31mKeyboardInterrupt\u001b[0m: "
          ]
        }
      ]
    }
  ]
}